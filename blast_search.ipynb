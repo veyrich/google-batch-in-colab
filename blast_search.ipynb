{
  "cells": [
    {
      "cell_type": "markdown",
      "source": [
        "**BLAST Search on Google Batch**\n",
        "\n",
        "Run a simple BLAST search against PDB SEQRES on Google Batch"
      ],
      "metadata": {
        "id": "iyQku4hD2rjD"
      },
      "id": "iyQku4hD2rjD"
    },
    {
      "cell_type": "markdown",
      "source": [
        "Set basic parameters (project, region, bucketname, etc)\n"
      ],
      "metadata": {
        "id": "246kOk3Z3AVj"
      },
      "id": "246kOk3Z3AVj"
    },
    {
      "cell_type": "code",
      "source": [
        "project_id = \"<project_id>\"\n",
        "region  = \"us-central1\"\n",
        "bucket_name = \"<bucket_name>\"\n",
        "query_seq_filename = \"query.fasta\"\n",
        "machine_type = \"e2-standard-4\"\n",
        "provisioning_model = \"SPOT\"\n"
      ],
      "metadata": {
        "id": "WVmAgGDxxb5C"
      },
      "id": "WVmAgGDxxb5C",
      "execution_count": null,
      "outputs": []
    },
    {
      "cell_type": "markdown",
      "source": [
        "Install required python modules"
      ],
      "metadata": {
        "id": "umAQP6YAECRw"
      },
      "id": "umAQP6YAECRw"
    },
    {
      "cell_type": "code",
      "source": [
        "!pip install google-cloud-storage\n",
        "!pip install google-cloud-batch\n",
        "!pip install gcsfs"
      ],
      "metadata": {
        "id": "VKFPRwoXttYH"
      },
      "id": "VKFPRwoXttYH",
      "execution_count": null,
      "outputs": []
    },
    {
      "cell_type": "code",
      "id": "9tsuJj99pXh2qKPqVYotPM5L",
      "metadata": {
        "tags": [],
        "id": "9tsuJj99pXh2qKPqVYotPM5L"
      },
      "source": [
        "from google.cloud import storage\n",
        "from google.cloud import batch_v1\n",
        "from google.cloud.batch_v1.types import JobStatus\n",
        "import time\n",
        "import datetime\n",
        "import gcsfs"
      ],
      "execution_count": null,
      "outputs": []
    },
    {
      "cell_type": "code",
      "source": [
        "sc = storage.Client()\n",
        "b = storage.Bucket(sc,name=bucket_name, user_project=project_id)\n",
        "if(not b.exists()):\n",
        "  print(f\"creating bucket: {bucket_name}\")\n",
        "  b.create()"
      ],
      "metadata": {
        "id": "LG-nvXO6wkbW"
      },
      "id": "LG-nvXO6wkbW",
      "execution_count": null,
      "outputs": []
    },
    {
      "cell_type": "markdown",
      "source": [
        "Define our query sequence and write to GCS bucket"
      ],
      "metadata": {
        "id": "0zbxTKkChVr_"
      },
      "id": "0zbxTKkChVr_"
    },
    {
      "cell_type": "code",
      "source": [
        "query_seq = \"\"\"\n",
        ">2PE4_1|Chain A|Hyaluronidase-1|Homo sapiens (9606)\n",
        "RSFRGPLLPNRPFTTVWNANTQWCLERHGVDVDVSVFDVVANPGQTFRGPDMTIFYSSQLGTYPYYTPTGEPVFGGLPQNASLIAHLARTFQDILAAIPAPDFSGLAVIDWEAWRPRWAFNWDTKDIYRQRSRALVQAQHPDWPAPQVEAVAQDQFQGAARAWMAGTLQLGRALRPRGLWGFYGFPDCYNYDFLSPNYTGQCPSGIRAQNDQLGWLWGQSRALYPSIYMPAVLEGTGKSQMYVQHRVAEAFRVAVAAGDPNLPVLPYVQIFYDTTNHFLPLDELEHSLGESAAQGAAGVVLWVSWENTRTKESCQAIKEYMDTTLGPFILNVTSGALLCSQALCSGHGRCVRRTSHPKALLLLNPASFSIQLTPGGGPLSLRGALSLEDQAQMAVEFKCRCYPGWQAPWCERKSMWTGHHHHHH\n",
        "\"\"\""
      ],
      "metadata": {
        "id": "RnTcSZKmhUwd"
      },
      "id": "RnTcSZKmhUwd",
      "execution_count": null,
      "outputs": []
    },
    {
      "cell_type": "code",
      "source": [
        "fs = gcsfs.GCSFileSystem(project=project_id)\n",
        "with fs.open(f\"gs://{bucket_name}/{query_seq_filename}\", \"w\") as f:\n",
        "  f.write(query_seq)"
      ],
      "metadata": {
        "id": "iMUnjAjt2x7z"
      },
      "id": "iMUnjAjt2x7z",
      "execution_count": null,
      "outputs": []
    },
    {
      "cell_type": "code",
      "source": [
        "#download PDB SEQRES records (if necessary)\n",
        "if storage.blob.Blob(bucket=b, name=\"pdb_seqres.txt.gz\").exists():\n",
        "  print(f\"pdb_seqres.txt.gz already exists\")\n",
        "else:\n",
        "  print(\"downloading pdb_seqres.txt.gz\")\n",
        "  !wget -nv https://files.wwpdb.org/pub/pdb/derived_data/pdb_seqres.txt.gz\n",
        "  !gsutil cp pdb_seqres.txt.gz gs://{bucket_name}"
      ],
      "metadata": {
        "id": "G6Mk3O7vxvlz"
      },
      "id": "G6Mk3O7vxvlz",
      "execution_count": null,
      "outputs": []
    },
    {
      "cell_type": "code",
      "source": [
        "#download BLAST binaries (if necessary\n",
        "if storage.blob.Blob(bucket=b, name=\"ncbi-blast-2.15.0+-x64-linux.tar.gz\").exists():\n",
        "  print(f\"ncbi-blast-2.15.0+-x64-linux.tar.gz already exists\")\n",
        "else:\n",
        "  print(\"downloading ncbi-blast-2.15.0+-x64-linux.tar.gz\")\n",
        "  !wget -nv https://ftp.ncbi.nlm.nih.gov/blast/executables/blast+/LATEST/ncbi-blast-2.15.0+-x64-linux.tar.gz\n",
        "  !gsutil cp ncbi-blast-2.15.0+-x64-linux.tar.gz gs://{bucket_name}"
      ],
      "metadata": {
        "id": "3hw6OhdZ0uFl"
      },
      "id": "3hw6OhdZ0uFl",
      "execution_count": null,
      "outputs": []
    },
    {
      "cell_type": "markdown",
      "source": [
        "The batch script for running Blast"
      ],
      "metadata": {
        "id": "7x1oa1VyHOeq"
      },
      "id": "7x1oa1VyHOeq"
    },
    {
      "cell_type": "code",
      "source": [
        "blast_batch_script = f\"\"\"\n",
        "    echo \"Run blast\"\n",
        "    date\n",
        "    cd /tmp\n",
        "\n",
        "    echo \"INSTALL BLAST\"\n",
        "    gsutil cp gs://{bucket_name}/ncbi-blast-2.15.0+-x64-linux.tar.gz .\n",
        "    tar zxvf ncbi-blast-2.15.0+-x64-linux.tar.gz\n",
        "    mv ncbi-blast-2.15.0+/ blast\n",
        "\n",
        "    echo \"COPY pdb_seqres\"\n",
        "    gsutil cp gs://{bucket_name}/pdb_seqres.txt.gz .\n",
        "\n",
        "    echo \"DECOMPRESS\"\n",
        "    gzip -d pdb_seqres.txt.gz\n",
        "\n",
        "    echo \"RENAME\"\n",
        "    mv pdb_seqres.txt pdb_seqres\n",
        "    echo \"CREATE BLAST DB\"\n",
        "    /tmp/blast/bin/makeblastdb -in pdb_seqres -out pdb_seqres -title pdb_seqres -dbtype prot -parse_seqids\n",
        "\n",
        "    echo \"RETRIEVE/CREATE QUERY SEQUENCE\"\n",
        "    #/tmp/blast/bin/blastdbcmd -db pdb_seqres -dbtype prot -entry 1mbd_A -out 1mbd_A.fasta\n",
        "    gsutil cp gs://{bucket_name}/{query_seq_filename} .\n",
        "    ls -l\n",
        "    cat {query_seq_filename}\n",
        "\n",
        "    echo \"RUN BLAST SEARCH\"\n",
        "    #remove any previous search results\n",
        "    gsutil rm gs://{bucket_name}/search.out\n",
        "    /tmp/blast/bin/blastp -db pdb_seqres -query {query_seq_filename} -out search.out -outfmt 10\n",
        "\n",
        "    echo \"DISPLAY AND SAVE RESULTS\"\n",
        "    head search.out\n",
        "    gsutil cp search.out gs://{bucket_name}\n",
        "    gsutil ls gs://{bucket_name}\n",
        "    date\n",
        "    echo \"===FINISH===\"\n",
        "    \"\"\""
      ],
      "metadata": {
        "id": "f4IcpyoWS972"
      },
      "id": "f4IcpyoWS972",
      "execution_count": null,
      "outputs": []
    },
    {
      "cell_type": "markdown",
      "source": [
        "Inspect expanded batch script if necessary"
      ],
      "metadata": {
        "id": "gop8EZl9Evy_"
      },
      "id": "gop8EZl9Evy_"
    },
    {
      "cell_type": "code",
      "source": [
        "print(blast_batch_script)"
      ],
      "metadata": {
        "id": "sGskyV8wTutM"
      },
      "id": "sGskyV8wTutM",
      "execution_count": null,
      "outputs": []
    },
    {
      "cell_type": "code",
      "source": [
        "#adapted from https://github.com/GoogleCloudPlatform/python-docs-samples/blob/main/batch/create/create_with_script_no_mounting.py\n",
        "\n",
        "def create_script_job(project_id: str, region: str, job_name: str, script: str) -> batch_v1.Job:\n",
        "    client = batch_v1.BatchServiceClient()\n",
        "\n",
        "    # Define what will be done as part of the job.\n",
        "    task = batch_v1.TaskSpec()\n",
        "    runnable = batch_v1.Runnable()\n",
        "    runnable.script = batch_v1.Runnable.Script()\n",
        "    runnable.display_name = \"blast_search\"\n",
        "    runnable.script.text = script\n",
        "\n",
        "    task.runnables = [runnable]\n",
        "\n",
        "    #Specify what resources are requested by each task.\n",
        "    resources = batch_v1.ComputeResource()\n",
        "    resources.cpu_milli = 4000\n",
        "    resources.memory_mib = 16000\n",
        "    task.compute_resource = resources\n",
        "\n",
        "    task.max_retry_count = 1\n",
        "    task.max_run_duration = \"3600s\"\n",
        "\n",
        "    group = batch_v1.TaskGroup()\n",
        "    group.task_count = 1\n",
        "    group.task_spec = task\n",
        "\n",
        "    allocation_policy = batch_v1.AllocationPolicy()\n",
        "    policy = batch_v1.AllocationPolicy.InstancePolicy()\n",
        "    policy.machine_type = machine_type\n",
        "    policy.provisioning_model = provisioning_model\n",
        "\n",
        "    instances = batch_v1.AllocationPolicy.InstancePolicyOrTemplate()\n",
        "    instances.policy = policy\n",
        "    allocation_policy.instances = [instances]\n",
        "\n",
        "    job = batch_v1.Job()\n",
        "    job.task_groups = [group]\n",
        "    job.allocation_policy = allocation_policy\n",
        "    # We use Cloud Logging as it's an out of the box available option\n",
        "    job.logs_policy = batch_v1.LogsPolicy()\n",
        "    job.logs_policy.destination = batch_v1.LogsPolicy.Destination.CLOUD_LOGGING\n",
        "\n",
        "    create_request = batch_v1.CreateJobRequest()\n",
        "    create_request.job = job\n",
        "    create_request.job_id = job_name\n",
        "    # The job's parent is the region in which the job will run\n",
        "    create_request.parent = f\"projects/hardtack-1998/locations/us-central1\"\n",
        "\n",
        "    return client.create_job(create_request)"
      ],
      "metadata": {
        "id": "qRa5wOWkYEmO"
      },
      "id": "qRa5wOWkYEmO",
      "execution_count": null,
      "outputs": []
    },
    {
      "cell_type": "markdown",
      "source": [
        "Block until batch job has completed and display progress"
      ],
      "metadata": {
        "id": "TNZgipvqE7dY"
      },
      "id": "TNZgipvqE7dY"
    },
    {
      "cell_type": "code",
      "source": [
        "ts = int(time.time())\n",
        "jobname = \"pyjob-{}\".format(ts)\n",
        "print(\"jobname: {}\".format(jobname))\n",
        "job = create_script_job(project_id, region, jobname, blast_batch_script )\n",
        "print(f\"job.name: {job.name}\")\n",
        "client = batch_v1.BatchServiceClient()\n",
        "while True:\n",
        "  request = batch_v1.GetJobRequest(\n",
        "    name = job.name\n",
        "  )\n",
        "  response = client.get_job(request=request)\n",
        "  now = datetime.datetime.now()\n",
        "  match response.status.state:\n",
        "    case JobStatus.State.QUEUED:\n",
        "      print(f\"job is QUEUED     @ {now}\")\n",
        "    case JobStatus.State.SCHEDULED:\n",
        "      print(f\"job is SCHEDULED  @ {now}\")\n",
        "    case JobStatus.State.RUNNING:\n",
        "      print(f\"job is RUNNING    @ {now}\")\n",
        "    case JobStatus.State.SUCCEEDED:\n",
        "      print(f\"job has SUCCEEDED @ {now}\")\n",
        "      break\n",
        "    case JobStatus.State.FAILED:\n",
        "      print(f\"job has FAILED    @ {now}\")\n",
        "      break\n",
        "  time.sleep(15)"
      ],
      "metadata": {
        "id": "HAWdNcUWYKYH"
      },
      "id": "HAWdNcUWYKYH",
      "execution_count": null,
      "outputs": []
    },
    {
      "cell_type": "code",
      "source": [
        "!gsutil cp gs://{bucket_name}/search.out ."
      ],
      "metadata": {
        "id": "QNR87uTMZVAi"
      },
      "id": "QNR87uTMZVAi",
      "execution_count": null,
      "outputs": []
    },
    {
      "cell_type": "code",
      "source": [
        "!head search.out"
      ],
      "metadata": {
        "id": "VImyL-WUaUBZ"
      },
      "id": "VImyL-WUaUBZ",
      "execution_count": null,
      "outputs": []
    }
  ],
  "metadata": {
    "kernelspec": {
      "display_name": "Python 3",
      "language": "python",
      "name": "python3"
    },
    "language_info": {
      "codemirror_mode": {
        "name": "ipython",
        "version": 3
      },
      "file_extension": ".py",
      "mimetype": "text/x-python",
      "name": "python",
      "nbconvert_exporter": "python",
      "pygments_lexer": "ipython3",
      "version": "3.10.10"
    },
    "colab": {
      "provenance": [],
      "name": "blast_search"
    }
  },
  "nbformat": 4,
  "nbformat_minor": 5
}